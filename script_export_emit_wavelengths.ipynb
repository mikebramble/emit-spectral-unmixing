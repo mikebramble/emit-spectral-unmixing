{
 "cells": [
  {
   "cell_type": "code",
   "execution_count": null,
   "metadata": {},
   "outputs": [],
   "source": [
    "# Code written by: Michael Bramble | michael.s.bramble@jpl.nasa.gov\n",
    "# script to export EMIT wavelength array to text file\n",
    "# 20240201 - initial version\n",
    "\n",
    "import os\n",
    "import numpy as np\n",
    "import hvplot.xarray\n",
    "import sys\n",
    "sys.path.append('/Users/bramble/My Drive/_JPL_AMD/EMIT-Data-Resources-main/python/modules/')\n",
    "from emit_tools import emit_xarray"
   ]
  },
  {
   "cell_type": "code",
   "execution_count": null,
   "metadata": {},
   "outputs": [],
   "source": [
    "# load reflectance image\n",
    "granule_asset_id = 'EMIT_L2A_RFL_001_20231006T174849_2327912_017.nc'\n",
    "fp = f'/Users/bramble/Documents/emit/leadville/ref/{granule_asset_id}'\n",
    "# load data set and remove the bad bands\n",
    "ds_geo = emit_xarray(fp, ortho=True)\n",
    "ds_geo['reflectance'].data[:,:,ds_geo['good_wavelengths'].data==0] = np.nan\n",
    "\n",
    "# # as a test, plot spectra taken from the georeferenced image\n",
    "# point = ds_geo.sel(longitude=-106.5,latitude=39,method='nearest')\n",
    "# ds_geo.sel(wavelengths=850, method='nearest').hvplot.image(cmap='viridis', aspect = 'equal', rasterize=True) +\\\n",
    "# point.hvplot.line(y='reflectance',x='wavelengths', color='black', frame_width=400).opts(\n",
    "#     title = f'Latitude = {point.latitude.values.round(3)}, Longitude = {point.longitude.values.round(3)}')"
   ]
  },
  {
   "cell_type": "code",
   "execution_count": null,
   "metadata": {},
   "outputs": [],
   "source": [
    "# WRITE EMIT WAVELENGTH ARRAY TO FILE\n",
    "temp = ds_geo.wavelengths\n",
    "np.savetxt(\"/Users/bramble/My Drive/_JPL_AMD/endmembers/emit_wavelengths.txt\", temp, delimiter=\",\")"
   ]
  }
 ],
 "metadata": {
  "kernelspec": {
   "display_name": "emit",
   "language": "python",
   "name": "python3"
  },
  "language_info": {
   "codemirror_mode": {
    "name": "ipython",
    "version": 3
   },
   "file_extension": ".py",
   "mimetype": "text/x-python",
   "name": "python",
   "nbconvert_exporter": "python",
   "pygments_lexer": "ipython3",
   "version": "3.9.16"
  }
 },
 "nbformat": 4,
 "nbformat_minor": 2
}
