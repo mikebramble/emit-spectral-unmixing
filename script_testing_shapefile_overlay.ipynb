{
 "cells": [
  {
   "cell_type": "code",
   "execution_count": null,
   "metadata": {},
   "outputs": [],
   "source": [
    "# Code written by: Michael Bramble | michael.s.bramble@jpl.nasa.gov\n",
    "# script for testing loading and overlay of USGS USMIN shapefiles\n",
    "# 20240229 - initial version"
   ]
  },
  {
   "cell_type": "code",
   "execution_count": 34,
   "metadata": {},
   "outputs": [],
   "source": [
    "import geopandas as gpd\n",
    "import geodatasets\n",
    "import contextily as cx\n",
    "# import earthaccess\n",
    "import os\n",
    "# from osgeo import gdal\n",
    "# import numpy as np\n",
    "# import pandas as pd\n",
    "# import xarray as xr\n",
    "# from scipy.optimize import lsq_linear\n",
    "import matplotlib.pyplot as plt\n",
    "# import math\n",
    "# import rasterio as rio\n",
    "# import holoviews as hv\n",
    "# import hvplot.xarray\n",
    "# import netCDF4 as nc\n",
    "# import sys\n",
    "# sys.path.append('/Users/bramble/My Drive/_JPL_AMD/EMIT-Data-Resources-main/python/modules/')\n",
    "# from emit_tools import emit_xarray\n",
    "# import emit_tools"
   ]
  },
  {
   "cell_type": "code",
   "execution_count": null,
   "metadata": {},
   "outputs": [],
   "source": [
    "shapefile_024k_points = gpd.read_file(\"/Users/bramble/Documents/emit/gis/USGS_TopoMineSymbols_ver10_Shapefiles/USGS_TopoMineSymbols_24k_Points.shp\")\n",
    "shapefile_024k_polygons = gpd.read_file(\"/Users/bramble/Documents/emit/gis/USGS_TopoMineSymbols_ver10_Shapefiles/USGS_TopoMineSymbols_24k_Polygons.shp\")\n",
    "shapefile_048k_points = gpd.read_file(\"/Users/bramble/Documents/emit/gis/USGS_TopoMineSymbols_ver10_Shapefiles/USGS_TopoMineSymbols_48k_Points.shp\")\n",
    "shapefile_048k_polygons = gpd.read_file(\"/Users/bramble/Documents/emit/gis/USGS_TopoMineSymbols_ver10_Shapefiles/USGS_TopoMineSymbols_48k_Polygons.shp\")\n",
    "shapefile_625k_points = gpd.read_file(\"/Users/bramble/Documents/emit/gis/USGS_TopoMineSymbols_ver10_Shapefiles/USGS_TopoMineSymbols_625k_Points.shp\")\n",
    "shapefile_625k_polygons = gpd.read_file(\"/Users/bramble/Documents/emit/gis/USGS_TopoMineSymbols_ver10_Shapefiles/USGS_TopoMineSymbols_625k_Polygons.shp\")\n",
    "print(shapefile_024k_points)"
   ]
  },
  {
   "cell_type": "code",
   "execution_count": null,
   "metadata": {},
   "outputs": [],
   "source": [
    "# project shapefiles\n",
    "\n",
    "# https://spatialreference.org/ref/epsg/4326/\n",
    "proj = 4326\n",
    "shapefile_625k_points = shapefile_625k_points.to_crs(proj)"
   ]
  },
  {
   "cell_type": "code",
   "execution_count": null,
   "metadata": {},
   "outputs": [],
   "source": [
    "# shapefile_625k_points.plot()\n",
    "\n",
    "# max_lat = 37.94\n",
    "# min_lat = 37.89\n",
    "# max_lon = -107.70\n",
    "# min_lon = -107.65\n",
    "north = 37.94\n",
    "south = 37.89\n",
    "west = -107.70\n",
    "east = -107.65\n",
    "\n",
    "shapefile_625k_points_clip = shapefile_625k_points.clip_by_rect(west, south, east, north)\n",
    "ax = shapefile_625k_points_clip.plot(figsize=(10, 10), alpha=0.5, edgecolor=\"k\")\n",
    "# cx.add_basemap(ax, crs=shapefile_625k_points.crs)\n",
    "# cx.add_basemap(ax, crs=shapefile_625k_points.crs, source=cx.providers.CartoDB.Positron)\n",
    "cx.add_basemap(ax, crs=shapefile_625k_points.crs, source=cx.providers.USGS.USTopo)"
   ]
  },
  {
   "cell_type": "code",
   "execution_count": 23,
   "metadata": {},
   "outputs": [
    {
     "name": "stderr",
     "output_type": "stream",
     "text": [
      "/Users/bramble/opt/miniconda3/envs/emit/lib/python3.9/site-packages/owslib/map/wms130.py:122: UserWarning: Content metadata for layer \"points\" already exists. Using child layer\n",
      "  warnings.warn('Content metadata for layer \"%s\" already exists. Using child layer' % cm.id)\n"
     ]
    }
   ],
   "source": [
    "from owslib.wms import WebMapService\n",
    "wms = WebMapService('https://mrdata.usgs.gov/services/wfs/usmin', version='1.3.0')"
   ]
  },
  {
   "cell_type": "code",
   "execution_count": 59,
   "metadata": {},
   "outputs": [
    {
     "data": {
      "text/plain": [
       "['image/png',\n",
       " 'image/jpeg',\n",
       " 'image/png; mode=8bit',\n",
       " 'image/vnd.jpeg-png',\n",
       " 'image/vnd.jpeg-png8',\n",
       " 'application/x-pdf',\n",
       " 'image/svg+xml',\n",
       " 'image/tiff',\n",
       " 'application/json']"
      ]
     },
     "execution_count": 59,
     "metadata": {},
     "output_type": "execute_result"
    }
   ],
   "source": [
    "# wms.identification.version\n",
    "# wms.identification.title\n",
    "# wms.identification.abstract\n",
    "# list(wms.contents)\n",
    "# wms['points'].title\n",
    "# wms['points'].styles\n",
    "# [op.name for op in wms.operations]\n",
    "wms.getOperationByName('GetMap').formatOptions\n",
    "\n"
   ]
  },
  {
   "cell_type": "code",
   "execution_count": 60,
   "metadata": {},
   "outputs": [
    {
     "ename": "ServiceException",
     "evalue": "msWMSLoadGetMapParams(): Image handling error. Unsupported output format (image/svg xml).",
     "output_type": "error",
     "traceback": [
      "\u001b[0;31m---------------------------------------------------------------------------\u001b[0m",
      "\u001b[0;31mServiceException\u001b[0m                          Traceback (most recent call last)",
      "Cell \u001b[0;32mIn[60], line 8\u001b[0m\n\u001b[1;32m      5\u001b[0m west \u001b[38;5;241m=\u001b[39m \u001b[38;5;241m-\u001b[39m\u001b[38;5;241m107.70\u001b[39m\n\u001b[1;32m      6\u001b[0m east \u001b[38;5;241m=\u001b[39m \u001b[38;5;241m-\u001b[39m\u001b[38;5;241m107.65\u001b[39m\n\u001b[0;32m----> 8\u001b[0m img \u001b[38;5;241m=\u001b[39m \u001b[43mwms\u001b[49m\u001b[38;5;241;43m.\u001b[39;49m\u001b[43mgetmap\u001b[49m\u001b[43m(\u001b[49m\u001b[43mlayers\u001b[49m\u001b[38;5;241;43m=\u001b[39;49m\u001b[43m[\u001b[49m\u001b[38;5;124;43m'\u001b[39;49m\u001b[38;5;124;43mpoints\u001b[39;49m\u001b[38;5;124;43m'\u001b[39;49m\u001b[43m]\u001b[49m\u001b[43m,\u001b[49m\n\u001b[1;32m      9\u001b[0m \u001b[43m                 \u001b[49m\u001b[43mstyles\u001b[49m\u001b[38;5;241;43m=\u001b[39;49m\u001b[43m[\u001b[49m\u001b[38;5;124;43m'\u001b[39;49m\u001b[38;5;124;43mdefault\u001b[39;49m\u001b[38;5;124;43m'\u001b[39;49m\u001b[43m]\u001b[49m\u001b[43m,\u001b[49m\n\u001b[1;32m     10\u001b[0m \u001b[43m                 \u001b[49m\u001b[43msrs\u001b[49m\u001b[38;5;241;43m=\u001b[39;49m\u001b[38;5;124;43m'\u001b[39;49m\u001b[38;5;124;43mEPSG:4326\u001b[39;49m\u001b[38;5;124;43m'\u001b[39;49m\u001b[43m,\u001b[49m\n\u001b[1;32m     11\u001b[0m \u001b[43m                 \u001b[49m\u001b[43mbbox\u001b[49m\u001b[38;5;241;43m=\u001b[39;49m\u001b[43m(\u001b[49m\u001b[43mwest\u001b[49m\u001b[43m,\u001b[49m\u001b[43m \u001b[49m\u001b[43msouth\u001b[49m\u001b[43m,\u001b[49m\u001b[43m \u001b[49m\u001b[43meast\u001b[49m\u001b[43m,\u001b[49m\u001b[43m \u001b[49m\u001b[43mnorth\u001b[49m\u001b[43m)\u001b[49m\u001b[43m,\u001b[49m\n\u001b[1;32m     12\u001b[0m \u001b[43m                 \u001b[49m\u001b[43msize\u001b[49m\u001b[38;5;241;43m=\u001b[39;49m\u001b[43m(\u001b[49m\u001b[38;5;241;43m600\u001b[39;49m\u001b[43m,\u001b[49m\u001b[43m \u001b[49m\u001b[38;5;241;43m600\u001b[39;49m\u001b[43m)\u001b[49m\u001b[43m,\u001b[49m\n\u001b[1;32m     13\u001b[0m \u001b[43m                 \u001b[49m\u001b[38;5;28;43mformat\u001b[39;49m\u001b[38;5;241;43m=\u001b[39;49m\u001b[38;5;124;43m'\u001b[39;49m\u001b[38;5;124;43mimage/svg+xml\u001b[39;49m\u001b[38;5;124;43m'\u001b[39;49m\u001b[43m,\u001b[49m\n\u001b[1;32m     14\u001b[0m \u001b[43m                 \u001b[49m\u001b[43mtransparent\u001b[49m\u001b[38;5;241;43m=\u001b[39;49m\u001b[38;5;28;43;01mTrue\u001b[39;49;00m\n\u001b[1;32m     15\u001b[0m \u001b[43m                 \u001b[49m\u001b[43m)\u001b[49m\n\u001b[1;32m     18\u001b[0m image \u001b[38;5;241m=\u001b[39m io\u001b[38;5;241m.\u001b[39mBytesIO(img\u001b[38;5;241m.\u001b[39mread())\n\u001b[1;32m     19\u001b[0m data \u001b[38;5;241m=\u001b[39m plt\u001b[38;5;241m.\u001b[39mimread(image)\n",
      "File \u001b[0;32m~/opt/miniconda3/envs/emit/lib/python3.9/site-packages/owslib/map/wms130.py:320\u001b[0m, in \u001b[0;36mWebMapService_1_3_0.getmap\u001b[0;34m(self, layers, styles, srs, bbox, format, size, time, elevation, dimensions, transparent, bgcolor, exceptions, method, timeout, **kwargs)\u001b[0m\n\u001b[1;32m    318\u001b[0m     se_tree \u001b[38;5;241m=\u001b[39m etree\u001b[38;5;241m.\u001b[39mfromstring(se_xml)\n\u001b[1;32m    319\u001b[0m     err_message \u001b[38;5;241m=\u001b[39m \u001b[38;5;28mstr\u001b[39m(se_tree\u001b[38;5;241m.\u001b[39mfind(nspath(\u001b[38;5;124m'\u001b[39m\u001b[38;5;124mServiceException\u001b[39m\u001b[38;5;124m'\u001b[39m, OGC_NAMESPACE))\u001b[38;5;241m.\u001b[39mtext)\u001b[38;5;241m.\u001b[39mstrip()\n\u001b[0;32m--> 320\u001b[0m     \u001b[38;5;28;01mraise\u001b[39;00m ServiceException(err_message)\n\u001b[1;32m    321\u001b[0m \u001b[38;5;28;01mreturn\u001b[39;00m u\n",
      "\u001b[0;31mServiceException\u001b[0m: msWMSLoadGetMapParams(): Image handling error. Unsupported output format (image/svg xml)."
     ]
    }
   ],
   "source": [
    "import io\n",
    "\n",
    "north = 37.94\n",
    "south = 37.89\n",
    "west = -107.70\n",
    "east = -107.65\n",
    "\n",
    "img = wms.getmap(layers=['points'],\n",
    "                 styles=['default'],\n",
    "                 srs='EPSG:4326',\n",
    "                 bbox=(west, south, east, north),\n",
    "                 size=(600, 600),\n",
    "                 format='image/png',\n",
    "                 transparent=True\n",
    "                 )\n",
    "\n",
    "\n",
    "image = io.BytesIO(img.read())\n",
    "data = plt.imread(image)\n",
    "\n",
    "fig = plt.figure(figsize=(8, 6))\n",
    "ax = fig.add_axes([0, 0, 1, 1])\n",
    "ax.imshow(data,extent=(west, east, south, north))\n",
    "plt.show()"
   ]
  },
  {
   "cell_type": "code",
   "execution_count": null,
   "metadata": {},
   "outputs": [],
   "source": [
    "from owslib.wfs import WebFeatureService\n",
    "\n",
    "# URL for WFS backend\n",
    "# url = \"http://geo.stat.fi/geoserver/vaestoruutu/wfs\"\n",
    "url = \"https://mrdata.usgs.gov/services/wfs/usmin\"\n",
    "\n",
    "\n",
    "# Initialize\n",
    "wfs = WebFeatureService(url=url)\n",
    "\n",
    "# Service provider \n",
    "# print(wfs.identification.title)\n",
    "\n",
    "# Get WFS version\n",
    "# print(wfs.version)\n",
    "\n",
    "# # Available methods\n",
    "# print([operation.name for operation in wfs.operations])\n",
    "\n",
    "# # Available data layers\n",
    "# print(list(wfs.contents))\n",
    "\n",
    "# # Print all metadata of all layers\n",
    "# for layer, meta in wfs.items():\n",
    "#     print(meta.__dict__)\n"
   ]
  },
  {
   "cell_type": "code",
   "execution_count": null,
   "metadata": {},
   "outputs": [],
   "source": [
    "# Read the data into GeoDataFrame:\n",
    "\n",
    "import geopandas as gpd\n",
    "from requests import Request\n",
    "from owslib.wfs import WebFeatureService\n",
    "\n",
    "# URL for WFS backend\n",
    "# url = \"http://geo.stat.fi/geoserver/vaestoruutu/wfs\"\n",
    "url = \"https://mrdata.usgs.gov/services/wfs/usmin\"\n",
    "\n",
    "\n",
    "# Initialize\n",
    "wfs = WebFeatureService(url=url)\n",
    "\n",
    "# Fetch the last available layer (as an example) --> 'vaestoruutu:vaki2021_5km'\n",
    "layer_name = list(wfs.contents)[-1]\n",
    "\n",
    "# Specify the parameters for fetching the data\n",
    "# Count: specificies amount of rows to return (e.g. 10000 or 100)\n",
    "# startIndex: specifies at which offset to start returning rows\n",
    "params = dict(service='WFS', version=\"1.1.0\", request='GetFeature',\n",
    "      typeName=layer_name, outputFormat='json', count=100, startIndex=0)\n",
    "\n",
    "# Parse the URL with parameters\n",
    "wfs_request_url = Request('GET', url, params=params).prepare().url\n",
    "\n",
    "# Read data from URL\n",
    "data = gpd.read_file(wfs_request_url)\n",
    "\n"
   ]
  },
  {
   "cell_type": "code",
   "execution_count": null,
   "metadata": {},
   "outputs": [],
   "source": [
    "import geopandas as gp\n",
    "import requests\n",
    "from fiona import BytesCollection    \n",
    "\n",
    "# def wfs2gp_df(layer_name, url, bbox=None, wfs_version=\"2.0.0\", outputFormat='application/gml+xml; version=3.2'):\n",
    "#     params = dict(service='WFS', version=wfs_version,request='GetFeature', typeName=layer_name, outputFormat=outputFormat)\n",
    "#     with BytesCollection(requests.get(url,params=params).content) as f:\n",
    "#         df = gp.GeoDataFrame.from_features(f)\n",
    "#     return df\n",
    "\n",
    "def wfs2gp_df(layer_name, url, bbox=None, wfs_version=\"1.1.0\", outputFormat='application/gml+xml; version=3.2'):\n",
    "    params = dict(service='WFS', version=wfs_version,request='GetFeature', typeName=layer_name, outputFormat=outputFormat)\n",
    "    with BytesCollection(requests.get(url,params=params).content) as f:\n",
    "        df = gp.GeoDataFrame.from_features(f)\n",
    "    return df\n",
    "\n",
    "# wfs2gp_df('your_wfs_layer_name', 'your_wfs_url').head()\n",
    "\n",
    "# wfs2gp_df('usmin', 'https://mrdata.usgs.gov/services/wfs/usmin').head()"
   ]
  },
  {
   "cell_type": "code",
   "execution_count": null,
   "metadata": {},
   "outputs": [],
   "source": [
    "import geopandas as gpd\n",
    "import requests\n",
    "import geojson\n",
    "# from pyproj import CRS\n",
    "from owslib.wfs import WebFeatureService\n",
    "\n",
    "# Specify the url for the backend.\n",
    "# Here we are using data from Statistics Finland: https://www.stat.fi/org/avoindata/paikkatietoaineistot_en.html. (CC BY 4.0)\n",
    "url = \"https://mrdata.usgs.gov/services/wfs/usmin\"\n",
    "\n",
    "# Specify parameters (read data in json format).\n",
    "params = dict(\n",
    "    service=\"WFS\",\n",
    "    version=\"1.1.0\",\n",
    "    request=\"GetFeature\",\n",
    "    typeName=\"tilastointialueet:kunta4500k\",\n",
    "    outputFormat=\"json\",\n",
    ")\n",
    "\n",
    "# Fetch data from WFS using requests\n",
    "r = requests.get(url, params=params)\n",
    "\n",
    "# Create GeoDataFrame from geojson and set coordinate reference system\n",
    "data = gpd.GeoDataFrame.from_features(geojson.loads(r.content), crs=\"EPSG:4326\")"
   ]
  },
  {
   "cell_type": "code",
   "execution_count": 30,
   "metadata": {},
   "outputs": [
    {
     "ename": "DriverError",
     "evalue": "'/vsimem/1b7eb6af723f41dc9944efd667744d00' not recognized as a supported file format.",
     "output_type": "error",
     "traceback": [
      "\u001b[0;31m---------------------------------------------------------------------------\u001b[0m",
      "\u001b[0;31mCPLE_OpenFailedError\u001b[0m                      Traceback (most recent call last)",
      "File \u001b[0;32mfiona/_shim.pyx:83\u001b[0m, in \u001b[0;36mfiona._shim.gdal_open_vector\u001b[0;34m()\u001b[0m\n",
      "File \u001b[0;32mfiona/_err.pyx:291\u001b[0m, in \u001b[0;36mfiona._err.exc_wrap_pointer\u001b[0;34m()\u001b[0m\n",
      "\u001b[0;31mCPLE_OpenFailedError\u001b[0m: '/vsimem/1b7eb6af723f41dc9944efd667744d00' not recognized as a supported file format.",
      "\nDuring handling of the above exception, another exception occurred:\n",
      "\u001b[0;31mDriverError\u001b[0m                               Traceback (most recent call last)",
      "Cell \u001b[0;32mIn[30], line 11\u001b[0m\n\u001b[1;32m      8\u001b[0m get_ipython()\u001b[38;5;241m.\u001b[39mrun_line_magic(\u001b[38;5;124m'\u001b[39m\u001b[38;5;124mmatplotlib\u001b[39m\u001b[38;5;124m'\u001b[39m, \u001b[38;5;124m'\u001b[39m\u001b[38;5;124minline\u001b[39m\u001b[38;5;124m'\u001b[39m)\n\u001b[1;32m     10\u001b[0m shp_url\u001b[38;5;241m=\u001b[39m\u001b[38;5;124m\"\u001b[39m\u001b[38;5;124mhttps://mrdata.usgs.gov/services/usmin\u001b[39m\u001b[38;5;124m\"\u001b[39m\n\u001b[0;32m---> 11\u001b[0m shp_gdf\u001b[38;5;241m=\u001b[39m\u001b[43mgpd\u001b[49m\u001b[38;5;241;43m.\u001b[39;49m\u001b[43mread_file\u001b[49m\u001b[43m(\u001b[49m\u001b[43mshp_url\u001b[49m\u001b[43m)\u001b[49m\n\u001b[1;32m     12\u001b[0m shp_gdf\u001b[38;5;241m.\u001b[39mplot(column\u001b[38;5;241m=\u001b[39m\u001b[38;5;124m'\u001b[39m\u001b[38;5;124mpoints\u001b[39m\u001b[38;5;124m'\u001b[39m, figsize\u001b[38;5;241m=\u001b[39m(\u001b[38;5;241m9\u001b[39m,\u001b[38;5;241m9\u001b[39m));\n",
      "File \u001b[0;32m~/opt/miniconda3/envs/emit/lib/python3.9/site-packages/geopandas/io/file.py:281\u001b[0m, in \u001b[0;36m_read_file\u001b[0;34m(filename, bbox, mask, rows, engine, **kwargs)\u001b[0m\n\u001b[1;32m    278\u001b[0m     \u001b[38;5;28;01melse\u001b[39;00m:\n\u001b[1;32m    279\u001b[0m         path_or_bytes \u001b[38;5;241m=\u001b[39m filename\n\u001b[0;32m--> 281\u001b[0m     \u001b[38;5;28;01mreturn\u001b[39;00m \u001b[43m_read_file_fiona\u001b[49m\u001b[43m(\u001b[49m\n\u001b[1;32m    282\u001b[0m \u001b[43m        \u001b[49m\u001b[43mpath_or_bytes\u001b[49m\u001b[43m,\u001b[49m\u001b[43m \u001b[49m\u001b[43mfrom_bytes\u001b[49m\u001b[43m,\u001b[49m\u001b[43m \u001b[49m\u001b[43mbbox\u001b[49m\u001b[38;5;241;43m=\u001b[39;49m\u001b[43mbbox\u001b[49m\u001b[43m,\u001b[49m\u001b[43m \u001b[49m\u001b[43mmask\u001b[49m\u001b[38;5;241;43m=\u001b[39;49m\u001b[43mmask\u001b[49m\u001b[43m,\u001b[49m\u001b[43m \u001b[49m\u001b[43mrows\u001b[49m\u001b[38;5;241;43m=\u001b[39;49m\u001b[43mrows\u001b[49m\u001b[43m,\u001b[49m\u001b[43m \u001b[49m\u001b[38;5;241;43m*\u001b[39;49m\u001b[38;5;241;43m*\u001b[39;49m\u001b[43mkwargs\u001b[49m\n\u001b[1;32m    283\u001b[0m \u001b[43m    \u001b[49m\u001b[43m)\u001b[49m\n\u001b[1;32m    285\u001b[0m \u001b[38;5;28;01melse\u001b[39;00m:\n\u001b[1;32m    286\u001b[0m     \u001b[38;5;28;01mraise\u001b[39;00m \u001b[38;5;167;01mValueError\u001b[39;00m(\u001b[38;5;124mf\u001b[39m\u001b[38;5;124m\"\u001b[39m\u001b[38;5;124munknown engine \u001b[39m\u001b[38;5;124m'\u001b[39m\u001b[38;5;132;01m{\u001b[39;00mengine\u001b[38;5;132;01m}\u001b[39;00m\u001b[38;5;124m'\u001b[39m\u001b[38;5;124m\"\u001b[39m)\n",
      "File \u001b[0;32m~/opt/miniconda3/envs/emit/lib/python3.9/site-packages/geopandas/io/file.py:322\u001b[0m, in \u001b[0;36m_read_file_fiona\u001b[0;34m(path_or_bytes, from_bytes, bbox, mask, rows, where, **kwargs)\u001b[0m\n\u001b[1;32m    319\u001b[0m     reader \u001b[38;5;241m=\u001b[39m fiona\u001b[38;5;241m.\u001b[39mopen\n\u001b[1;32m    321\u001b[0m \u001b[38;5;28;01mwith\u001b[39;00m fiona_env():\n\u001b[0;32m--> 322\u001b[0m     \u001b[38;5;28;01mwith\u001b[39;00m \u001b[43mreader\u001b[49m\u001b[43m(\u001b[49m\u001b[43mpath_or_bytes\u001b[49m\u001b[43m,\u001b[49m\u001b[43m \u001b[49m\u001b[38;5;241;43m*\u001b[39;49m\u001b[38;5;241;43m*\u001b[39;49m\u001b[43mkwargs\u001b[49m\u001b[43m)\u001b[49m \u001b[38;5;28;01mas\u001b[39;00m features:\n\u001b[1;32m    323\u001b[0m         crs \u001b[38;5;241m=\u001b[39m features\u001b[38;5;241m.\u001b[39mcrs_wkt\n\u001b[1;32m    324\u001b[0m         \u001b[38;5;66;03m# attempt to get EPSG code\u001b[39;00m\n",
      "File \u001b[0;32m~/opt/miniconda3/envs/emit/lib/python3.9/site-packages/fiona/collection.py:555\u001b[0m, in \u001b[0;36m__init__\u001b[0;34m(self, bytesbuf, **kwds)\u001b[0m\n\u001b[1;32m    553\u001b[0m \u001b[38;5;250m\u001b[39m\u001b[38;5;124;03m\"\"\"Stages multiple records for writing to disk.\"\"\"\u001b[39;00m\n\u001b[1;32m    554\u001b[0m \u001b[38;5;28;01mif\u001b[39;00m \u001b[38;5;28mself\u001b[39m\u001b[38;5;241m.\u001b[39mclosed:\n\u001b[0;32m--> 555\u001b[0m     \u001b[38;5;28;01mraise\u001b[39;00m \u001b[38;5;167;01mValueError\u001b[39;00m(\u001b[38;5;124m\"\u001b[39m\u001b[38;5;124mI/O operation on closed collection\u001b[39m\u001b[38;5;124m\"\u001b[39m)\n\u001b[1;32m    556\u001b[0m \u001b[38;5;28;01mif\u001b[39;00m \u001b[38;5;28mself\u001b[39m\u001b[38;5;241m.\u001b[39mmode \u001b[38;5;129;01mnot\u001b[39;00m \u001b[38;5;129;01min\u001b[39;00m (\u001b[38;5;124m\"\u001b[39m\u001b[38;5;124ma\u001b[39m\u001b[38;5;124m\"\u001b[39m, \u001b[38;5;124m\"\u001b[39m\u001b[38;5;124mw\u001b[39m\u001b[38;5;124m\"\u001b[39m):\n\u001b[1;32m    557\u001b[0m     \u001b[38;5;28;01mraise\u001b[39;00m \u001b[38;5;167;01mOSError\u001b[39;00m(\u001b[38;5;124m\"\u001b[39m\u001b[38;5;124mcollection not open for writing\u001b[39m\u001b[38;5;124m\"\u001b[39m)\n",
      "File \u001b[0;32m~/opt/miniconda3/envs/emit/lib/python3.9/site-packages/fiona/collection.py:162\u001b[0m, in \u001b[0;36m__init__\u001b[0;34m(self, path, mode, driver, schema, crs, encoding, layer, vsi, archive, enabled_drivers, crs_wkt, ignore_fields, ignore_geometry, **kwargs)\u001b[0m\n\u001b[1;32m    158\u001b[0m \u001b[38;5;28mself\u001b[39m\u001b[38;5;241m.\u001b[39m_closed \u001b[38;5;241m=\u001b[39m \u001b[38;5;28;01mTrue\u001b[39;00m\n\u001b[1;32m    160\u001b[0m \u001b[38;5;66;03m# Check GDAL version against drivers\u001b[39;00m\n\u001b[1;32m    161\u001b[0m \u001b[38;5;28;01mif\u001b[39;00m (\n\u001b[0;32m--> 162\u001b[0m     driver \u001b[38;5;129;01min\u001b[39;00m driver_mode_mingdal[mode]\n\u001b[1;32m    163\u001b[0m     \u001b[38;5;129;01mand\u001b[39;00m get_gdal_version_tuple() \u001b[38;5;241m<\u001b[39m driver_mode_mingdal[mode][driver]\n\u001b[1;32m    164\u001b[0m ):\n\u001b[1;32m    165\u001b[0m     min_gdal_version \u001b[38;5;241m=\u001b[39m \u001b[38;5;124m\"\u001b[39m\u001b[38;5;124m.\u001b[39m\u001b[38;5;124m\"\u001b[39m\u001b[38;5;241m.\u001b[39mjoin(\n\u001b[1;32m    166\u001b[0m         \u001b[38;5;28mlist\u001b[39m(\u001b[38;5;28mmap\u001b[39m(\u001b[38;5;28mstr\u001b[39m, driver_mode_mingdal[mode][driver]))\n\u001b[1;32m    167\u001b[0m     )\n\u001b[1;32m    169\u001b[0m     \u001b[38;5;28;01mraise\u001b[39;00m DriverError(\n\u001b[1;32m    170\u001b[0m         \u001b[38;5;124m\"\u001b[39m\u001b[38;5;132;01m{driver}\u001b[39;00m\u001b[38;5;124m driver requires at least GDAL \u001b[39m\u001b[38;5;132;01m{min_gdal_version}\u001b[39;00m\u001b[38;5;124m for mode \u001b[39m\u001b[38;5;124m'\u001b[39m\u001b[38;5;132;01m{mode}\u001b[39;00m\u001b[38;5;124m'\u001b[39m\u001b[38;5;124m, \u001b[39m\u001b[38;5;124m\"\u001b[39m\n\u001b[1;32m    171\u001b[0m         \u001b[38;5;124m\"\u001b[39m\u001b[38;5;124mFiona was compiled against: \u001b[39m\u001b[38;5;132;01m{gdal}\u001b[39;00m\u001b[38;5;124m\"\u001b[39m\u001b[38;5;241m.\u001b[39mformat(\n\u001b[0;32m   (...)\u001b[0m\n\u001b[1;32m    176\u001b[0m         )\n\u001b[1;32m    177\u001b[0m     )\n",
      "File \u001b[0;32mfiona/ogrext.pyx:540\u001b[0m, in \u001b[0;36mfiona.ogrext.Session.start\u001b[0;34m()\u001b[0m\n",
      "File \u001b[0;32mfiona/_shim.pyx:90\u001b[0m, in \u001b[0;36mfiona._shim.gdal_open_vector\u001b[0;34m()\u001b[0m\n",
      "\u001b[0;31mDriverError\u001b[0m: '/vsimem/1b7eb6af723f41dc9944efd667744d00' not recognized as a supported file format."
     ]
    }
   ],
   "source": [
    "#FOR WMS data\n",
    "# https://geographyplanning.buffalostate.edu/wMix/python/Geopandas%20Basics%20using%20Open%20Data.html\n",
    "\n",
    "import os\n",
    "import geopandas as gpd\n",
    "import matplotlib\n",
    "import matplotlib.pyplot as plt\n",
    "%matplotlib inline\n",
    "\n",
    "shp_url=\"https://mrdata.usgs.gov/services/usmin\"\n",
    "shp_gdf=gpd.read_file(shp_url)\n",
    "shp_gdf.plot(column='points', figsize=(9,9));"
   ]
  }
 ],
 "metadata": {
  "kernelspec": {
   "display_name": "emit",
   "language": "python",
   "name": "python3"
  },
  "language_info": {
   "codemirror_mode": {
    "name": "ipython",
    "version": 3
   },
   "file_extension": ".py",
   "mimetype": "text/x-python",
   "name": "python",
   "nbconvert_exporter": "python",
   "pygments_lexer": "ipython3",
   "version": "3.9.16"
  }
 },
 "nbformat": 4,
 "nbformat_minor": 2
}
